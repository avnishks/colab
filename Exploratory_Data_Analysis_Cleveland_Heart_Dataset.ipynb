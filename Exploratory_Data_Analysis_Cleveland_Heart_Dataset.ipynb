{
  "nbformat": 4,
  "nbformat_minor": 0,
  "metadata": {
    "colab": {
      "name": "Exploratory Data Analysis - Cleveland Heart Dataset",
      "provenance": [],
      "authorship_tag": "ABX9TyO7MxgQKs+MQg+yIb6Fw9FE",
      "include_colab_link": true
    },
    "kernelspec": {
      "name": "python3",
      "display_name": "Python 3"
    }
  },
  "cells": [
    {
      "cell_type": "markdown",
      "metadata": {
        "id": "view-in-github",
        "colab_type": "text"
      },
      "source": [
        "<a href=\"https://colab.research.google.com/github/avnishks/colab/blob/main/Exploratory_Data_Analysis_Cleveland_Heart_Dataset.ipynb\" target=\"_parent\"><img src=\"https://colab.research.google.com/assets/colab-badge.svg\" alt=\"Open In Colab\"/></a>"
      ]
    },
    {
      "cell_type": "code",
      "metadata": {
        "id": "sjeX646cYaIW"
      },
      "source": [
        "import shapely as shap\n",
        "import numpy as np\n",
        "import pandas as pd\n",
        "import seaborn as sns\n",
        "import matplotlib.pyplot as plt\n",
        "\n",
        "from sklearn.model_selection import train_test_split\n",
        "from sklearn.preprocessing import StandardScaler as ss\n",
        "from sklearn.svm import SVC\n",
        "from sklearn.tree import DecisionTreeClassifier\n",
        "from sklearn.linear_model import LogisticRegression\n",
        "from sklearn.metrics import confusion_matrix, roc_curve, roc_auc_score"
      ],
      "execution_count": 1,
      "outputs": []
    },
    {
      "cell_type": "code",
      "metadata": {
        "colab": {
          "base_uri": "https://localhost:8080/"
        },
        "id": "oNlNx7w4ZdUG",
        "outputId": "c3d257a3-b1c2-4a46-f4f5-071ac79cc0ff"
      },
      "source": [
        "df = pd.read_csv('processed.cleveland.data', sep=\",\", header=None)\n",
        "df.columns = [\"age\", \"sex\", \"cp\", \"trestbps\", \"chol\", \"fbs\", \"restecg\", \"thalach\",\n",
        "              \"exang\", \"oldpeak\", \"slope\", \"ca\", \"thal\", \"diseaseStat\"]\n",
        "print(\"df_shape: \", df.shape)"
      ],
      "execution_count": 3,
      "outputs": [
        {
          "output_type": "stream",
          "text": [
            "df_shape:  (303, 14)\n"
          ],
          "name": "stdout"
        }
      ]
    },
    {
      "cell_type": "code",
      "metadata": {
        "colab": {
          "base_uri": "https://localhost:8080/"
        },
        "id": "TCcyTPIMZsqF",
        "outputId": "1369ac4e-bfb8-41d7-be62-2e7758f62ec8"
      },
      "source": [
        "df.dtypes"
      ],
      "execution_count": 4,
      "outputs": [
        {
          "output_type": "execute_result",
          "data": {
            "text/plain": [
              "age            float64\n",
              "sex            float64\n",
              "cp             float64\n",
              "trestbps       float64\n",
              "chol           float64\n",
              "fbs            float64\n",
              "restecg        float64\n",
              "thalach        float64\n",
              "exang          float64\n",
              "oldpeak        float64\n",
              "slope          float64\n",
              "ca              object\n",
              "thal            object\n",
              "diseaseStat      int64\n",
              "dtype: object"
            ]
          },
          "metadata": {
            "tags": []
          },
          "execution_count": 4
        }
      ]
    },
    {
      "cell_type": "code",
      "metadata": {
        "id": "hi-G-k4yZev1"
      },
      "source": [
        "print(\"rows with missing 'ca' values: \",\n",
        "      df[pd.to_numeric(df.ca, errors='coerce').isnull()][[\"ca\", \"thal\"]], sep='\\n')\n",
        "print('\\n')\n",
        "print(\"rows with missing 'thal' values: \",\n",
        "      df[pd.to_numeric(df.thal, errors='coerce').isnull()][[\"ca\", \"thal\"]], sep='\\n')"
      ],
      "execution_count": 1,
      "outputs": []
    },
    {
      "cell_type": "code",
      "metadata": {
        "id": "hZqM_sigZeyT"
      },
      "source": [
        ""
      ],
      "execution_count": 1,
      "outputs": []
    },
    {
      "cell_type": "code",
      "metadata": {
        "id": "TTX3r2kMZe0t"
      },
      "source": [
        ""
      ],
      "execution_count": 1,
      "outputs": []
    },
    {
      "cell_type": "code",
      "metadata": {
        "id": "BzU27JD1Ze3K"
      },
      "source": [
        ""
      ],
      "execution_count": 1,
      "outputs": []
    },
    {
      "cell_type": "code",
      "metadata": {
        "id": "P4ahWuhYZe-P"
      },
      "source": [
        ""
      ],
      "execution_count": null,
      "outputs": []
    },
    {
      "cell_type": "markdown",
      "metadata": {
        "id": "f1tpXfDLZALn"
      },
      "source": [
        ""
      ]
    }
  ]
}